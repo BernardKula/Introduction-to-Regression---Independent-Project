{
  "nbformat": 4,
  "nbformat_minor": 0,
  "metadata": {
    "colab": {
      "name": "Introduction to Regression Project.ipynb",
      "provenance": [],
      "collapsed_sections": [],
      "authorship_tag": "ABX9TyOLYgYBSS/OpHJTRu3Gc+8g",
      "include_colab_link": true
    },
    "kernelspec": {
      "name": "python3",
      "display_name": "Python 3"
    },
    "language_info": {
      "name": "python"
    }
  },
  "cells": [
    {
      "cell_type": "markdown",
      "metadata": {
        "id": "view-in-github",
        "colab_type": "text"
      },
      "source": [
        "<a href=\"https://colab.research.google.com/github/CoolerKula/Introduction-to-Regression---Independent-Project/blob/main/Introduction_to_Regression_Project.ipynb\" target=\"_parent\"><img src=\"https://colab.research.google.com/assets/colab-badge.svg\" alt=\"Open In Colab\"/></a>"
      ]
    },
    {
      "cell_type": "markdown",
      "metadata": {
        "id": "1agaw8BrUQN8"
      },
      "source": [
        "## Problem Statement\n",
        "Mobile carrier Megaline has found out that many of their subscribers use legacy plans.\n",
        "They want to develop a model that would analyze subscribers' behavior and recommend\n",
        "one of Megaline's newer plans: Smart or Ultra.\n",
        "You have access to behavior data about subscribers who have already switched to the\n",
        "new plans (from the project for the Statistical Data Analysis course). For this\n",
        "classification task, you need to develop a model that will pick the right plan. Since you’ve\n",
        "already performed the data preprocessing step, you can move straight to creating the\n",
        "model.\n",
        "Develop a model with the highest possible accuracy. In this project, the threshold for\n",
        "accuracy is 0.75. Check the accuracy using the test dataset.\n",
        "1. Open and look through the data file.\n",
        "2. Split the source data into a training set, a validation set, and a test set.\n",
        "3. Investigate the quality of different models by changing hyperparameters. Briefly\n",
        "describe the findings of the study.\n",
        "4. Check the quality of the model using the test set.\n",
        "5. Additional task: sanity check the model. This data is more complex than what\n",
        "you’re used to working with, so it's not an easy task. We'll take a closer look at it\n",
        "later."
      ]
    },
    {
      "cell_type": "code",
      "metadata": {
        "id": "0G5bC9ejULOT"
      },
      "source": [
        "import pandas as pd\n",
        "import numpy as np\n",
        "from sklearn.model_selection import train_test_split\n",
        "from sklearn.preprocessing import StandardScaler\n",
        "from sklearn.ensemble import RandomForestClassifier\n",
        "from sklearn.tree import DecisionTreeClassifier\n",
        "from sklearn.linear_model import LogisticRegression\n",
        "from sklearn.metrics import accuracy_score\n",
        "from sklearn.metrics import confusion_matrix\n",
        "from sklearn.metrics import classification_report,confusion_matrix\n",
        "import warnings\n",
        "warnings.filterwarnings('ignore')\n",
        "from sklearn.metrics import recall_score\n",
        "from sklearn.metrics import precision_score\n",
        "from sklearn.metrics import f1_score"
      ],
      "execution_count": null,
      "outputs": []
    },
    {
      "cell_type": "markdown",
      "metadata": {
        "id": "71rGnuuV8I3R"
      },
      "source": [
        "### **DATA IMPORTATION**"
      ]
    },
    {
      "cell_type": "code",
      "metadata": {
        "colab": {
          "base_uri": "https://localhost:8080/",
          "height": 419
        },
        "id": "UeXOK66AU7Wx",
        "outputId": "f2f9172a-d741-459b-c783-56dc06c14818"
      },
      "source": [
        "#Data importation\n",
        "data = pd.read_csv(\"https://bit.ly/UsersBehaviourTelco\")\n",
        "data"
      ],
      "execution_count": null,
      "outputs": [
        {
          "output_type": "execute_result",
          "data": {
            "text/html": [
              "<div>\n",
              "<style scoped>\n",
              "    .dataframe tbody tr th:only-of-type {\n",
              "        vertical-align: middle;\n",
              "    }\n",
              "\n",
              "    .dataframe tbody tr th {\n",
              "        vertical-align: top;\n",
              "    }\n",
              "\n",
              "    .dataframe thead th {\n",
              "        text-align: right;\n",
              "    }\n",
              "</style>\n",
              "<table border=\"1\" class=\"dataframe\">\n",
              "  <thead>\n",
              "    <tr style=\"text-align: right;\">\n",
              "      <th></th>\n",
              "      <th>calls</th>\n",
              "      <th>minutes</th>\n",
              "      <th>messages</th>\n",
              "      <th>mb_used</th>\n",
              "      <th>is_ultra</th>\n",
              "    </tr>\n",
              "  </thead>\n",
              "  <tbody>\n",
              "    <tr>\n",
              "      <th>0</th>\n",
              "      <td>40.0</td>\n",
              "      <td>311.90</td>\n",
              "      <td>83.0</td>\n",
              "      <td>19915.42</td>\n",
              "      <td>0</td>\n",
              "    </tr>\n",
              "    <tr>\n",
              "      <th>1</th>\n",
              "      <td>85.0</td>\n",
              "      <td>516.75</td>\n",
              "      <td>56.0</td>\n",
              "      <td>22696.96</td>\n",
              "      <td>0</td>\n",
              "    </tr>\n",
              "    <tr>\n",
              "      <th>2</th>\n",
              "      <td>77.0</td>\n",
              "      <td>467.66</td>\n",
              "      <td>86.0</td>\n",
              "      <td>21060.45</td>\n",
              "      <td>0</td>\n",
              "    </tr>\n",
              "    <tr>\n",
              "      <th>3</th>\n",
              "      <td>106.0</td>\n",
              "      <td>745.53</td>\n",
              "      <td>81.0</td>\n",
              "      <td>8437.39</td>\n",
              "      <td>1</td>\n",
              "    </tr>\n",
              "    <tr>\n",
              "      <th>4</th>\n",
              "      <td>66.0</td>\n",
              "      <td>418.74</td>\n",
              "      <td>1.0</td>\n",
              "      <td>14502.75</td>\n",
              "      <td>0</td>\n",
              "    </tr>\n",
              "    <tr>\n",
              "      <th>...</th>\n",
              "      <td>...</td>\n",
              "      <td>...</td>\n",
              "      <td>...</td>\n",
              "      <td>...</td>\n",
              "      <td>...</td>\n",
              "    </tr>\n",
              "    <tr>\n",
              "      <th>3209</th>\n",
              "      <td>122.0</td>\n",
              "      <td>910.98</td>\n",
              "      <td>20.0</td>\n",
              "      <td>35124.90</td>\n",
              "      <td>1</td>\n",
              "    </tr>\n",
              "    <tr>\n",
              "      <th>3210</th>\n",
              "      <td>25.0</td>\n",
              "      <td>190.36</td>\n",
              "      <td>0.0</td>\n",
              "      <td>3275.61</td>\n",
              "      <td>0</td>\n",
              "    </tr>\n",
              "    <tr>\n",
              "      <th>3211</th>\n",
              "      <td>97.0</td>\n",
              "      <td>634.44</td>\n",
              "      <td>70.0</td>\n",
              "      <td>13974.06</td>\n",
              "      <td>0</td>\n",
              "    </tr>\n",
              "    <tr>\n",
              "      <th>3212</th>\n",
              "      <td>64.0</td>\n",
              "      <td>462.32</td>\n",
              "      <td>90.0</td>\n",
              "      <td>31239.78</td>\n",
              "      <td>0</td>\n",
              "    </tr>\n",
              "    <tr>\n",
              "      <th>3213</th>\n",
              "      <td>80.0</td>\n",
              "      <td>566.09</td>\n",
              "      <td>6.0</td>\n",
              "      <td>29480.52</td>\n",
              "      <td>1</td>\n",
              "    </tr>\n",
              "  </tbody>\n",
              "</table>\n",
              "<p>3214 rows × 5 columns</p>\n",
              "</div>"
            ],
            "text/plain": [
              "      calls  minutes  messages   mb_used  is_ultra\n",
              "0      40.0   311.90      83.0  19915.42         0\n",
              "1      85.0   516.75      56.0  22696.96         0\n",
              "2      77.0   467.66      86.0  21060.45         0\n",
              "3     106.0   745.53      81.0   8437.39         1\n",
              "4      66.0   418.74       1.0  14502.75         0\n",
              "...     ...      ...       ...       ...       ...\n",
              "3209  122.0   910.98      20.0  35124.90         1\n",
              "3210   25.0   190.36       0.0   3275.61         0\n",
              "3211   97.0   634.44      70.0  13974.06         0\n",
              "3212   64.0   462.32      90.0  31239.78         0\n",
              "3213   80.0   566.09       6.0  29480.52         1\n",
              "\n",
              "[3214 rows x 5 columns]"
            ]
          },
          "metadata": {},
          "execution_count": 91
        }
      ]
    },
    {
      "cell_type": "markdown",
      "metadata": {
        "id": "NUHNOH9Z8Qwa"
      },
      "source": [
        "### **DATA EXPLORATION**"
      ]
    },
    {
      "cell_type": "code",
      "metadata": {
        "colab": {
          "base_uri": "https://localhost:8080/"
        },
        "id": "-9ZJN8lNVJPq",
        "outputId": "4f3bf097-3886-42f2-c7b8-144d8757e576"
      },
      "source": [
        "data.info()"
      ],
      "execution_count": null,
      "outputs": [
        {
          "output_type": "stream",
          "name": "stdout",
          "text": [
            "<class 'pandas.core.frame.DataFrame'>\n",
            "RangeIndex: 3214 entries, 0 to 3213\n",
            "Data columns (total 5 columns):\n",
            " #   Column    Non-Null Count  Dtype  \n",
            "---  ------    --------------  -----  \n",
            " 0   calls     3214 non-null   float64\n",
            " 1   minutes   3214 non-null   float64\n",
            " 2   messages  3214 non-null   float64\n",
            " 3   mb_used   3214 non-null   float64\n",
            " 4   is_ultra  3214 non-null   int64  \n",
            "dtypes: float64(4), int64(1)\n",
            "memory usage: 125.7 KB\n"
          ]
        }
      ]
    },
    {
      "cell_type": "code",
      "metadata": {
        "colab": {
          "base_uri": "https://localhost:8080/",
          "height": 297
        },
        "id": "BpCqoE1rVvZh",
        "outputId": "4be3a272-d652-4da9-8232-24d735e49c85"
      },
      "source": [
        "data.describe()"
      ],
      "execution_count": null,
      "outputs": [
        {
          "output_type": "execute_result",
          "data": {
            "text/html": [
              "<div>\n",
              "<style scoped>\n",
              "    .dataframe tbody tr th:only-of-type {\n",
              "        vertical-align: middle;\n",
              "    }\n",
              "\n",
              "    .dataframe tbody tr th {\n",
              "        vertical-align: top;\n",
              "    }\n",
              "\n",
              "    .dataframe thead th {\n",
              "        text-align: right;\n",
              "    }\n",
              "</style>\n",
              "<table border=\"1\" class=\"dataframe\">\n",
              "  <thead>\n",
              "    <tr style=\"text-align: right;\">\n",
              "      <th></th>\n",
              "      <th>calls</th>\n",
              "      <th>minutes</th>\n",
              "      <th>messages</th>\n",
              "      <th>mb_used</th>\n",
              "      <th>is_ultra</th>\n",
              "    </tr>\n",
              "  </thead>\n",
              "  <tbody>\n",
              "    <tr>\n",
              "      <th>count</th>\n",
              "      <td>3214.000000</td>\n",
              "      <td>3214.000000</td>\n",
              "      <td>3214.000000</td>\n",
              "      <td>3214.000000</td>\n",
              "      <td>3214.000000</td>\n",
              "    </tr>\n",
              "    <tr>\n",
              "      <th>mean</th>\n",
              "      <td>63.038892</td>\n",
              "      <td>438.208787</td>\n",
              "      <td>38.281269</td>\n",
              "      <td>17207.673836</td>\n",
              "      <td>0.306472</td>\n",
              "    </tr>\n",
              "    <tr>\n",
              "      <th>std</th>\n",
              "      <td>33.236368</td>\n",
              "      <td>234.569872</td>\n",
              "      <td>36.148326</td>\n",
              "      <td>7570.968246</td>\n",
              "      <td>0.461100</td>\n",
              "    </tr>\n",
              "    <tr>\n",
              "      <th>min</th>\n",
              "      <td>0.000000</td>\n",
              "      <td>0.000000</td>\n",
              "      <td>0.000000</td>\n",
              "      <td>0.000000</td>\n",
              "      <td>0.000000</td>\n",
              "    </tr>\n",
              "    <tr>\n",
              "      <th>25%</th>\n",
              "      <td>40.000000</td>\n",
              "      <td>274.575000</td>\n",
              "      <td>9.000000</td>\n",
              "      <td>12491.902500</td>\n",
              "      <td>0.000000</td>\n",
              "    </tr>\n",
              "    <tr>\n",
              "      <th>50%</th>\n",
              "      <td>62.000000</td>\n",
              "      <td>430.600000</td>\n",
              "      <td>30.000000</td>\n",
              "      <td>16943.235000</td>\n",
              "      <td>0.000000</td>\n",
              "    </tr>\n",
              "    <tr>\n",
              "      <th>75%</th>\n",
              "      <td>82.000000</td>\n",
              "      <td>571.927500</td>\n",
              "      <td>57.000000</td>\n",
              "      <td>21424.700000</td>\n",
              "      <td>1.000000</td>\n",
              "    </tr>\n",
              "    <tr>\n",
              "      <th>max</th>\n",
              "      <td>244.000000</td>\n",
              "      <td>1632.060000</td>\n",
              "      <td>224.000000</td>\n",
              "      <td>49745.730000</td>\n",
              "      <td>1.000000</td>\n",
              "    </tr>\n",
              "  </tbody>\n",
              "</table>\n",
              "</div>"
            ],
            "text/plain": [
              "             calls      minutes     messages       mb_used     is_ultra\n",
              "count  3214.000000  3214.000000  3214.000000   3214.000000  3214.000000\n",
              "mean     63.038892   438.208787    38.281269  17207.673836     0.306472\n",
              "std      33.236368   234.569872    36.148326   7570.968246     0.461100\n",
              "min       0.000000     0.000000     0.000000      0.000000     0.000000\n",
              "25%      40.000000   274.575000     9.000000  12491.902500     0.000000\n",
              "50%      62.000000   430.600000    30.000000  16943.235000     0.000000\n",
              "75%      82.000000   571.927500    57.000000  21424.700000     1.000000\n",
              "max     244.000000  1632.060000   224.000000  49745.730000     1.000000"
            ]
          },
          "metadata": {},
          "execution_count": 93
        }
      ]
    },
    {
      "cell_type": "markdown",
      "metadata": {
        "id": "b8_i-8458zub"
      },
      "source": [
        "### **DATA CLEANING AND PREPARATION**"
      ]
    },
    {
      "cell_type": "code",
      "metadata": {
        "colab": {
          "base_uri": "https://localhost:8080/"
        },
        "id": "5yL4daRpV8Wo",
        "outputId": "87d3291d-566c-48d5-9df9-fe1bd94085fe"
      },
      "source": [
        "data.isnull().sum()"
      ],
      "execution_count": null,
      "outputs": [
        {
          "output_type": "execute_result",
          "data": {
            "text/plain": [
              "calls       0\n",
              "minutes     0\n",
              "messages    0\n",
              "mb_used     0\n",
              "is_ultra    0\n",
              "dtype: int64"
            ]
          },
          "metadata": {},
          "execution_count": 94
        }
      ]
    },
    {
      "cell_type": "code",
      "metadata": {
        "colab": {
          "base_uri": "https://localhost:8080/"
        },
        "id": "JUNupS7VW2fZ",
        "outputId": "6fce3972-82c1-4394-8da8-1e9ce4469cb5"
      },
      "source": [
        "data['is_ultra'].value_counts()"
      ],
      "execution_count": null,
      "outputs": [
        {
          "output_type": "execute_result",
          "data": {
            "text/plain": [
              "0    2229\n",
              "1     985\n",
              "Name: is_ultra, dtype: int64"
            ]
          },
          "metadata": {},
          "execution_count": 95
        }
      ]
    },
    {
      "cell_type": "markdown",
      "metadata": {
        "id": "TPC4DguP7akj"
      },
      "source": [
        "### **DATA MODELING**"
      ]
    },
    {
      "cell_type": "code",
      "metadata": {
        "id": "9vONuszuXSmp",
        "colab": {
          "base_uri": "https://localhost:8080/"
        },
        "outputId": "67b62124-9b8a-4b09-dab0-2313dd97353a"
      },
      "source": [
        "target = data['is_ultra']\n",
        "\n",
        "features = data.drop(['is_ultra'], axis=1)\n",
        "\n",
        "# set aside 20% of train and test data for evaluation\n",
        "features_train, features_test, target_train, target_test = train_test_split(features, target,\n",
        "    test_size=0.2, shuffle = True, random_state = 12345)\n",
        "\n",
        "features_train, features_valid, target_train, target_valid = train_test_split(\n",
        "\n",
        "    features, target, test_size=0.25, random_state=12345\n",
        ")\n",
        "\n",
        "print(features_train.shape)\n",
        "print(target_train.shape)\n",
        "print(features_valid.shape)\n",
        "print(target_valid.shape)\n",
        "print(features_test.shape)\n",
        "print(target_test.shape)"
      ],
      "execution_count": null,
      "outputs": [
        {
          "output_type": "stream",
          "name": "stdout",
          "text": [
            "(2410, 4)\n",
            "(2410,)\n",
            "(804, 4)\n",
            "(804,)\n",
            "(643, 4)\n",
            "(643,)\n"
          ]
        }
      ]
    },
    {
      "cell_type": "code",
      "metadata": {
        "colab": {
          "base_uri": "https://localhost:8080/"
        },
        "id": "mw4xXJGmjsOA",
        "outputId": "d19efc41-cd4d-490d-ce22-1350e54a896d"
      },
      "source": [
        "datalist = data.columns.values.tolist()\n",
        "datalist\n",
        "#datalist.remove(\"is_ultra\")"
      ],
      "execution_count": null,
      "outputs": [
        {
          "output_type": "execute_result",
          "data": {
            "text/plain": [
              "['calls', 'minutes', 'messages', 'mb_used', 'is_ultra']"
            ]
          },
          "metadata": {},
          "execution_count": 97
        }
      ]
    },
    {
      "cell_type": "code",
      "metadata": {
        "colab": {
          "base_uri": "https://localhost:8080/"
        },
        "id": "DtxZTAqIXUbi",
        "outputId": "a621c353-0aac-4645-b278-649f75954a8d"
      },
      "source": [
        "model = RandomForestClassifier(random_state=12345, n_estimators=10)\n",
        "        \n",
        "model.fit(features_train,target_train)\n",
        "\n",
        "print('Validation set:',model.score(features_valid, target_valid))\n",
        "print('Training set:',model.score(features_train,target_train))\n",
        "print('Test set:',model.score(features_test,target_test))"
      ],
      "execution_count": null,
      "outputs": [
        {
          "output_type": "stream",
          "name": "stdout",
          "text": [
            "Validation set: 0.7898009950248757\n",
            "Training set: 0.9755186721991701\n",
            "Test set: 0.7853810264385692\n"
          ]
        }
      ]
    },
    {
      "cell_type": "code",
      "metadata": {
        "colab": {
          "base_uri": "https://localhost:8080/"
        },
        "id": "ca2MC24GYOYC",
        "outputId": "900a8ca9-4b88-4103-a40a-7a255d72d8ec"
      },
      "source": [
        "model = DecisionTreeClassifier(random_state=12345)\n",
        "        \n",
        "model.fit(features_train,target_train)\n",
        "\n",
        "print('Validation set:',model.score(features_valid, target_valid))\n",
        "print('Training set:',model.score(features_train,target_train))\n",
        "print('Test set:',model.score(features_test,target_test))"
      ],
      "execution_count": null,
      "outputs": [
        {
          "output_type": "stream",
          "name": "stdout",
          "text": [
            "Validation set: 0.7213930348258707\n",
            "Training set: 1.0\n",
            "Test set: 0.7216174183514774\n"
          ]
        }
      ]
    },
    {
      "cell_type": "code",
      "metadata": {
        "colab": {
          "base_uri": "https://localhost:8080/"
        },
        "id": "MA-tvmcIYX7x",
        "outputId": "08d5f2bd-3a0e-4c37-d384-1ac356919d9b"
      },
      "source": [
        "model = LogisticRegression(random_state=12345, solver='liblinear')\n",
        "        \n",
        "model.fit(features_train,target_train)\n",
        "\n",
        "print('Validation set:',model.score(features_valid, target_valid))\n",
        "print('Training set:',model.score(features_train,target_train))\n",
        "print('Test set:',model.score(features_test,target_test))"
      ],
      "execution_count": null,
      "outputs": [
        {
          "output_type": "stream",
          "name": "stdout",
          "text": [
            "Validation set: 0.7039800995024875\n",
            "Training set: 0.7045643153526971\n",
            "Test set: 0.7013996889580093\n"
          ]
        }
      ]
    },
    {
      "cell_type": "code",
      "metadata": {
        "colab": {
          "base_uri": "https://localhost:8080/"
        },
        "id": "nBAKHyOMzWQ6",
        "outputId": "bcc16cb5-32dd-4c19-a70a-e0aaaa9c571c"
      },
      "source": [
        "predictions_valid = model.predict(features_valid)\n",
        "accuracy_score(target_valid, predictions_valid)"
      ],
      "execution_count": null,
      "outputs": [
        {
          "output_type": "execute_result",
          "data": {
            "text/plain": [
              "0.7039800995024875"
            ]
          },
          "metadata": {},
          "execution_count": 108
        }
      ]
    },
    {
      "cell_type": "markdown",
      "metadata": {
        "id": "Bi2iq3_k7m2x"
      },
      "source": [
        "### **MODEL** **EVALUATION**"
      ]
    },
    {
      "cell_type": "code",
      "metadata": {
        "colab": {
          "base_uri": "https://localhost:8080/"
        },
        "id": "rgh85iZrf2JX",
        "outputId": "a50ec4c1-04d5-47df-97df-03310eae18c5"
      },
      "source": [
        "print(\"Confusion Matrix : \\n\",confusion_matrix(target_valid, predictions_valid))"
      ],
      "execution_count": null,
      "outputs": [
        {
          "output_type": "stream",
          "name": "stdout",
          "text": [
            "Confusion Matrix : \n",
            " [[557   6]\n",
            " [232   9]]\n"
          ]
        }
      ]
    },
    {
      "cell_type": "code",
      "metadata": {
        "colab": {
          "base_uri": "https://localhost:8080/"
        },
        "id": "8u4hNRcef46X",
        "outputId": "ee2fde0c-dc13-4d66-a110-ef631bb9aaf3"
      },
      "source": [
        "print(' f1 score: ',f1_score(target_valid, predictions_valid)*100,'\\n')\n",
        "print(' Accuracy: ',accuracy_score(target_valid, predictions_valid)*100,'\\n')\n",
        "print(' precision score: ',precision_score(target_valid, predictions_valid)*100,'\\n')\n",
        "print(' recall score: ',recall_score(target_valid, predictions_valid)*100,'\\n')\n",
        "print(\" Classification report: \\n\",classification_report(target_valid, predictions_valid))"
      ],
      "execution_count": null,
      "outputs": [
        {
          "output_type": "stream",
          "name": "stdout",
          "text": [
            " f1 score:  7.03125 \n",
            "\n",
            " Accuracy:  70.39800995024875 \n",
            "\n",
            " precision score:  60.0 \n",
            "\n",
            " recall score:  3.7344398340248963 \n",
            "\n",
            " Classification report: \n",
            "               precision    recall  f1-score   support\n",
            "\n",
            "           0       0.71      0.99      0.82       563\n",
            "           1       0.60      0.04      0.07       241\n",
            "\n",
            "    accuracy                           0.70       804\n",
            "   macro avg       0.65      0.51      0.45       804\n",
            "weighted avg       0.67      0.70      0.60       804\n",
            "\n"
          ]
        }
      ]
    },
    {
      "cell_type": "markdown",
      "metadata": {
        "id": "aQcpEn6Z7v-y"
      },
      "source": [
        "### **HYPARAMETER TUNING**"
      ]
    },
    {
      "cell_type": "code",
      "metadata": {
        "colab": {
          "base_uri": "https://localhost:8080/"
        },
        "id": "k8QSDIIqSHJz",
        "outputId": "826ab882-c798-418a-fa57-4363462288a9"
      },
      "source": [
        "#Hyparameter Tuning\n",
        "DecisionTreeClassifier(class_weight=None, criterion='gini', max_depth=None,\n",
        "            max_features=None, max_leaf_nodes=None,\n",
        "            min_impurity_decrease=0.0, min_impurity_split=None,\n",
        "            min_samples_leaf=1, min_samples_split=2,\n",
        "            min_weight_fraction_leaf=0.0, presort=False, random_state=None,\n",
        "            splitter='best')"
      ],
      "execution_count": null,
      "outputs": [
        {
          "output_type": "execute_result",
          "data": {
            "text/plain": [
              "DecisionTreeClassifier(ccp_alpha=0.0, class_weight=None, criterion='gini',\n",
              "                       max_depth=None, max_features=None, max_leaf_nodes=None,\n",
              "                       min_impurity_decrease=0.0, min_impurity_split=None,\n",
              "                       min_samples_leaf=1, min_samples_split=2,\n",
              "                       min_weight_fraction_leaf=0.0, presort=False,\n",
              "                       random_state=None, splitter='best')"
            ]
          },
          "metadata": {},
          "execution_count": 111
        }
      ]
    },
    {
      "cell_type": "code",
      "metadata": {
        "colab": {
          "base_uri": "https://localhost:8080/"
        },
        "id": "Gxwep9tK-pIb",
        "outputId": "91f07656-ceeb-4c3b-c9fe-1c317afa8f28"
      },
      "source": [
        "for depth in range(1, 6):\n",
        "        model = DecisionTreeClassifier(max_depth=depth)\n",
        "\n",
        "        model.fit(features_valid, target_valid)\n",
        "\n",
        "        predictions_valid = model.predict(features_valid)\n",
        "        accuracy_score(target_valid, predictions_valid)\n",
        "\n",
        "        print(\"max_depth =\", depth, \": \", end='')\n",
        "        print(accuracy_score(target_valid, predictions_valid))"
      ],
      "execution_count": null,
      "outputs": [
        {
          "output_type": "stream",
          "name": "stdout",
          "text": [
            "max_depth = 1 : 0.7686567164179104\n",
            "max_depth = 2 : 0.8009950248756219\n",
            "max_depth = 3 : 0.8059701492537313\n",
            "max_depth = 4 : 0.8208955223880597\n",
            "max_depth = 5 : 0.835820895522388\n"
          ]
        }
      ]
    },
    {
      "cell_type": "markdown",
      "metadata": {
        "id": "eddWyLy776Aq"
      },
      "source": [
        "### **FINDINGS AND RECOMMENDATIONS**\n",
        "\n",
        "RandomForest is the best model for the predictions"
      ]
    },
    {
      "cell_type": "markdown",
      "metadata": {
        "id": "nh9mAJNDBUbh"
      },
      "source": [
        "### **Sanity Check**"
      ]
    },
    {
      "cell_type": "code",
      "metadata": {
        "colab": {
          "base_uri": "https://localhost:8080/",
          "height": 364
        },
        "id": "xglz3jW_B6QI",
        "outputId": "61fc0256-6047-4480-b23b-4ca292b9c52d"
      },
      "source": [
        "model = DecisionTreeClassifier(random_state=12345)\n",
        "model.fit(features_train, target_train)\n",
        "\n",
        "# to make value_counts() work,\n",
        "# we converted results to pd.Series\n",
        "predicted_valid = pd.Series(model.predict(features_valid))\n",
        "\n",
        "class_frequency = predicted_valid.value_counts(normalize=True)\n",
        "print(class_frequency)\n",
        "class_frequency.plot(kind='bar')\n",
        "\n",
        "print(class_frequency)"
      ],
      "execution_count": null,
      "outputs": [
        {
          "output_type": "stream",
          "name": "stdout",
          "text": [
            "0    0.690299\n",
            "1    0.309701\n",
            "dtype: float64\n",
            "0    0.690299\n",
            "1    0.309701\n",
            "dtype: float64\n"
          ]
        },
        {
          "output_type": "display_data",
          "data": {
            "image/png": "[encoded data removed]",
            "text/plain": [
              "<Figure size 432x288 with 1 Axes>"
            ]
          },
          "metadata": {
            "needs_background": "light"
          }
        }
      ]
    },
    {
      "cell_type": "code",
      "metadata": {
        "colab": {
          "base_uri": "https://localhost:8080/"
        },
        "id": "0rfFsyrjFAnZ",
        "outputId": "5acd6226-2085-43b8-81e3-fcfaf36141b3"
      },
      "source": [
        "target_pred_constant = pd.Series(model.predict(features))\n",
        "print(accuracy_score(target, target_pred_constant))"
      ],
      "execution_count": null,
      "outputs": [
        {
          "output_type": "stream",
          "name": "stdout",
          "text": [
            "0.9303049159925326\n"
          ]
        }
      ]
    }
  ]
}